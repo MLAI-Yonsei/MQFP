{
 "cells": [
  {
   "cell_type": "code",
   "execution_count": 7,
   "id": "53f37753-35a0-4d69-a08d-8f9e48ff59c5",
   "metadata": {},
   "outputs": [],
   "source": [
    "import mat73\n",
    "import pandas as pd\n",
    "import numpy as np"
   ]
  },
  {
   "cell_type": "code",
   "execution_count": 10,
   "id": "a539f2c7-1b5d-4f4f-87b5-52203bb8d9f1",
   "metadata": {},
   "outputs": [
    {
     "name": "stdout",
     "output_type": "stream",
     "text": [
      "dict_keys(['AAMI_Cal_Subset'])\n",
      "dict_keys(['Seg_DBP', 'Seg_SBP', 'Source', 'Subj_Age', 'Subj_BMI', 'Subj_Gender', 'Subj_Height', 'Subj_Name', 'Subj_SegIDX', 'Subj_Weight'])\n",
      "{'Seg_DBP': (379134, 1), 'Seg_SBP': (379134, 1), 'Source': (379134, 1), 'Subj_Age': (379134, 1), 'Subj_BMI': (379134, 1), 'Subj_Gender': (379134, 1), 'Subj_Height': (379134, 1), 'Subj_Name': (379134, 1), 'Subj_SegIDX': (379134, 1), 'Subj_Weight': (379134, 1)}\n"
     ]
    }
   ],
   "source": [
    "data_dict = mat73.loadmat('./AAMI_Cal_Info.mat')\n",
    "print(data_dict.keys())\n",
    "print(data_dict['AAMI_Cal_Subset'].keys())    \n",
    "print({k: np.array(v).shape for k,v in data_dict['AAMI_Cal_Subset'].items()})"
   ]
  },
  {
   "cell_type": "code",
   "execution_count": 13,
   "id": "abc7d864-b44c-4977-97d9-fe83979bb5c7",
   "metadata": {},
   "outputs": [
    {
     "name": "stdout",
     "output_type": "stream",
     "text": [
      "(379134, 10)\n",
      "               Seg_DBP              Seg_SBP   Source Subj_Age Subj_BMI  \\\n",
      "0  [85.88421667895912]   [173.396570166998]  [MIMIC]   [36.0]    [nan]   \n",
      "1  [92.24927387492635]  [183.2314742213747]  [MIMIC]   [36.0]    [nan]   \n",
      "2  [99.52257601635085]  [185.0214669838278]  [MIMIC]   [36.0]    [nan]   \n",
      "\n",
      "  Subj_Gender Subj_Height    Subj_Name Subj_SegIDX Subj_Weight  \n",
      "0         [F]       [nan]  [p008799_0]       [1.0]       [nan]  \n",
      "1         [F]       [nan]  [p008799_0]       [2.0]       [nan]  \n",
      "2         [F]       [nan]  [p008799_0]       [3.0]       [nan]  \n"
     ]
    }
   ],
   "source": [
    "# make Dataframe\n",
    "data_df = pd.DataFrame({k: np.array(v).tolist() for k,v in data_dict['AAMI_Cal_Subset'].items()})    \n",
    "print(data_df.shape)\n",
    "print(data_df[:3])"
   ]
  },
  {
   "cell_type": "code",
   "execution_count": null,
   "id": "7e78a21a-607f-4dc3-ab9b-37d4080bff33",
   "metadata": {},
   "outputs": [],
   "source": [
    "# fix columns\n",
    "data_df['Subject'] = data_df['Subj_Name'].apply(lambda x: x[0])"
   ]
  },
  {
   "cell_type": "code",
   "execution_count": null,
   "id": "70a4c044-6d59-4f49-bd8f-547f40042013",
   "metadata": {},
   "outputs": [],
   "source": [
    "data_df.head()"
   ]
  },
  {
   "cell_type": "code",
   "execution_count": null,
   "id": "dce3620f-295f-4a84-b3ad-882b0fd7c007",
   "metadata": {},
   "outputs": [],
   "source": [
    "len(data_df)"
   ]
  },
  {
   "cell_type": "code",
   "execution_count": null,
   "id": "fd423f16-e852-4344-a5ee-5d742f5050bd",
   "metadata": {},
   "outputs": [],
   "source": []
  }
 ],
 "metadata": {
  "kernelspec": {
   "display_name": "Python 3 (ipykernel)",
   "language": "python",
   "name": "python3"
  },
  "language_info": {
   "codemirror_mode": {
    "name": "ipython",
    "version": 3
   },
   "file_extension": ".py",
   "mimetype": "text/x-python",
   "name": "python",
   "nbconvert_exporter": "python",
   "pygments_lexer": "ipython3",
   "version": "3.9.19"
  }
 },
 "nbformat": 4,
 "nbformat_minor": 5
}

{
 "cells": [
  {
   "cell_type": "code",
   "execution_count": null,
   "id": "53f37753-35a0-4d69-a08d-8f9e48ff59c5",
   "metadata": {},
   "outputs": [],
   "source": [
    "import mat73\n",
    "import pandas as pd\n",
    "import numpy as np"
   ]
  },
  {
   "cell_type": "code",
   "execution_count": null,
   "id": "a539f2c7-1b5d-4f4f-87b5-52203bb8d9f1",
   "metadata": {},
   "outputs": [],
   "source": [
    "data_dict = mat73.loadmat('./AAMI_Cal_Info.mat')\n",
    "print(data_dict.keys())\n",
    "print(data_dict['AAMI_Cal_Subset'].keys())    \n",
    "print({k: np.array(v).shape for k,v in data_dict['AAMI_Cal_Subset'].items()})"
   ]
  },
  {
   "cell_type": "code",
   "execution_count": null,
   "id": "abc7d864-b44c-4977-97d9-fe83979bb5c7",
   "metadata": {},
   "outputs": [],
   "source": [
    "# make Dataframe\n",
    "data_df = pd.DataFrame({k: np.array(v).tolist() for k,v in data_dict['AAMI_Cal_Subset'].items()})    \n",
    "print(data_df.shape)\n",
    "print(data_df[:3])"
   ]
  },
  {
   "cell_type": "code",
   "execution_count": null,
   "id": "7e78a21a-607f-4dc3-ab9b-37d4080bff33",
   "metadata": {},
   "outputs": [],
   "source": [
    "# fix columns\n",
    "data_df['Subject'] = data_df['Subj_Name'].apply(lambda x: x[0])"
   ]
  },
  {
   "cell_type": "code",
   "execution_count": null,
   "id": "70a4c044-6d59-4f49-bd8f-547f40042013",
   "metadata": {},
   "outputs": [],
   "source": [
    "data_df.head()"
   ]
  },
  {
   "cell_type": "code",
   "execution_count": null,
   "id": "dce3620f-295f-4a84-b3ad-882b0fd7c007",
   "metadata": {},
   "outputs": [],
   "source": [
    "len(data_df)"
   ]
  },
  {
   "cell_type": "code",
   "execution_count": null,
   "id": "fd423f16-e852-4344-a5ee-5d742f5050bd",
   "metadata": {},
   "outputs": [],
   "source": []
  }
 ],
 "metadata": {
  "kernelspec": {
   "display_name": "Python 3 (ipykernel)",
   "language": "python",
   "name": "python3"
  },
  "language_info": {
   "codemirror_mode": {
    "name": "ipython",
    "version": 3
   },
   "file_extension": ".py",
   "mimetype": "text/x-python",
   "name": "python",
   "nbconvert_exporter": "python",
   "pygments_lexer": "ipython3",
   "version": "3.9.19"
  }
 },
 "nbformat": 4,
 "nbformat_minor": 5
}

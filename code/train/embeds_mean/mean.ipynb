{
 "cells": [
  {
   "cell_type": "code",
   "execution_count": null,
   "metadata": {},
   "outputs": [],
   "source": [
    "import torch\n",
    "import pickle\n",
    "import numpy as np\n",
    "from tqdm import tqdm"
   ]
  },
  {
   "cell_type": "code",
   "execution_count": null,
   "metadata": {},
   "outputs": [],
   "source": [
    "data=\"sensors\"\n",
    "fold=4\n",
    "emb_path = f\"{data}_fold_{fold}_pen_embs.pkl\""
   ]
  },
  {
   "cell_type": "code",
   "execution_count": null,
   "metadata": {},
   "outputs": [],
   "source": [
    "with open(emb_path, 'rb') as f:\n",
    "    embs = pickle.load(f)"
   ]
  },
  {
   "cell_type": "code",
   "execution_count": null,
   "metadata": {},
   "outputs": [],
   "source": [
    "groups = np.array([v.item() for v in embs['groups']])\n",
    "mean_embeddings = []\n",
    "for group in tqdm(range(4)):\n",
    "    group_indices = np.where(groups == group)\n",
    "    group_embeddings = np.array(embs['embeddings'])[group_indices[0]]\n",
    "    mean_embedding = np.mean(group_embeddings, axis=0)\n",
    "    mean_embeddings.append(mean_embedding)\n",
    "    \n",
    "mean_embeddings_tensor = torch.tensor(mean_embeddings)\n",
    "torch.save(mean_embeddings_tensor, f'{data}_mean_embeddings.pt')\n",
    "mean_embeddings_tensor.shape"
   ]
  }
 ],
 "metadata": {
  "kernelspec": {
   "display_name": "l2p",
   "language": "python",
   "name": "python3"
  },
  "language_info": {
   "name": "python",
   "version": "3.8.19"
  }
 },
 "nbformat": 4,
 "nbformat_minor": 2
}

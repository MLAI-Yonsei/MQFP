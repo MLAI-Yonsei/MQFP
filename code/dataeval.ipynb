{
 "cells": [
  {
   "cell_type": "code",
   "execution_count": 2,
   "metadata": {},
   "outputs": [
    {
     "name": "stdout",
     "output_type": "stream",
     "text": [
      "\n",
      "Inspecting signal_fold_0.mat\n",
      "  [patient] shape: (134, 1), dtype: <U7\n",
      "  [trial] shape: (134, 1), dtype: <U12\n",
      "  [SP] shape: (134, 1), dtype: float64\n",
      "  [DP] shape: (134, 1), dtype: float64\n",
      "  [gender] shape: (134, 1), dtype: <U1\n",
      "  [age] shape: (134, 1), dtype: float64\n",
      "  [signal] shape: (134, 1250), dtype: float64\n",
      "  [abp_signal] shape: (134, 1250), dtype: float64\n",
      "\n",
      "Inspecting signal_fold_1.mat\n",
      "  [patient] shape: (134, 1), dtype: <U7\n",
      "  [trial] shape: (134, 1), dtype: <U12\n",
      "  [SP] shape: (134, 1), dtype: float64\n",
      "  [DP] shape: (134, 1), dtype: float64\n",
      "  [gender] shape: (134, 1), dtype: <U1\n",
      "  [age] shape: (134, 1), dtype: float64\n",
      "  [signal] shape: (134, 1250), dtype: float64\n",
      "  [abp_signal] shape: (134, 1250), dtype: float64\n",
      "\n",
      "Inspecting signal_fold_2.mat\n",
      "  [patient] shape: (134, 1), dtype: <U7\n",
      "  [trial] shape: (134, 1), dtype: <U12\n",
      "  [SP] shape: (134, 1), dtype: float64\n",
      "  [DP] shape: (134, 1), dtype: float64\n",
      "  [gender] shape: (134, 1), dtype: <U1\n",
      "  [age] shape: (134, 1), dtype: float64\n",
      "  [signal] shape: (134, 1250), dtype: float64\n",
      "  [abp_signal] shape: (134, 1250), dtype: float64\n",
      "\n",
      "Inspecting signal_fold_3.mat\n",
      "  [patient] shape: (134, 1), dtype: <U7\n",
      "  [trial] shape: (134, 1), dtype: <U12\n",
      "  [SP] shape: (134, 1), dtype: float64\n",
      "  [DP] shape: (134, 1), dtype: float64\n",
      "  [gender] shape: (134, 1), dtype: <U1\n",
      "  [age] shape: (134, 1), dtype: float64\n",
      "  [signal] shape: (134, 1250), dtype: float64\n",
      "  [abp_signal] shape: (134, 1250), dtype: float64\n",
      "\n",
      "Inspecting signal_fold_4.mat\n",
      "  [patient] shape: (138, 1), dtype: <U7\n",
      "  [trial] shape: (138, 1), dtype: <U12\n",
      "  [SP] shape: (138, 1), dtype: float64\n",
      "  [DP] shape: (138, 1), dtype: float64\n",
      "  [gender] shape: (138, 1), dtype: <U1\n",
      "  [age] shape: (138, 1), dtype: float64\n",
      "  [signal] shape: (138, 1250), dtype: float64\n",
      "  [abp_signal] shape: (138, 1250), dtype: float64\n"
     ]
    }
   ],
   "source": [
    "import scipy.io as sio\n",
    "import os\n",
    "\n",
    "data_dir = \"/data3/shared_dataset/mqfp/mimic_ecg/\"\n",
    "files = sorted([f for f in os.listdir(data_dir) if f.endswith(\".mat\")])\n",
    "\n",
    "for f in files:\n",
    "    path = os.path.join(data_dir, f)\n",
    "    print(f\"\\nInspecting {f}\")\n",
    "    \n",
    "    mat = sio.loadmat(path)\n",
    "    for k in mat.keys():\n",
    "        if not k.startswith('__'):\n",
    "            data = mat[k]\n",
    "            print(f\"  [{k}] shape: {data.shape}, dtype: {data.dtype}\")\n"
   ]
  }
 ],
 "metadata": {
  "kernelspec": {
   "display_name": "l2p",
   "language": "python",
   "name": "python3"
  },
  "language_info": {
   "codemirror_mode": {
    "name": "ipython",
    "version": 3
   },
   "file_extension": ".py",
   "mimetype": "text/x-python",
   "name": "python",
   "nbconvert_exporter": "python",
   "pygments_lexer": "ipython3",
   "version": "3.8.19"
  }
 },
 "nbformat": 4,
 "nbformat_minor": 2
}
